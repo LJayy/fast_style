{
  "nbformat": 4,
  "nbformat_minor": 0,
  "metadata": {
    "colab": {
      "name": "Colab_train_model.ipynb",
      "provenance": [],
      "collapsed_sections": []
    },
    "kernelspec": {
      "name": "python3",
      "display_name": "Python 3"
    },
    "accelerator": "GPU"
  },
  "cells": [
    {
      "cell_type": "code",
      "metadata": {
        "id": "BHGyYX4pTsV6",
        "colab_type": "code",
        "outputId": "7641d558-4a93-42db-b587-77d3b2329bee",
        "colab": {
          "base_uri": "https://localhost:8080/",
          "height": 122
        }
      },
      "source": [
        "from google.colab import drive\n",
        "drive.mount('/content/drive')"
      ],
      "execution_count": 0,
      "outputs": [
        {
          "output_type": "stream",
          "text": [
            "Go to this URL in a browser: https://accounts.google.com/o/oauth2/auth?client_id=947318989803-6bn6qk8qdgf4n4g3pfee6491hc0brc4i.apps.googleusercontent.com&redirect_uri=urn%3aietf%3awg%3aoauth%3a2.0%3aoob&response_type=code&scope=email%20https%3a%2f%2fwww.googleapis.com%2fauth%2fdocs.test%20https%3a%2f%2fwww.googleapis.com%2fauth%2fdrive%20https%3a%2f%2fwww.googleapis.com%2fauth%2fdrive.photos.readonly%20https%3a%2f%2fwww.googleapis.com%2fauth%2fpeopleapi.readonly\n",
            "\n",
            "Enter your authorization code:\n",
            "··········\n",
            "Mounted at /content/drive\n"
          ],
          "name": "stdout"
        }
      ]
    },
    {
      "cell_type": "code",
      "metadata": {
        "id": "TptN3hlETuV8",
        "colab_type": "code",
        "outputId": "98c68fcf-b676-400b-b540-bc2054b2e074",
        "colab": {
          "base_uri": "https://localhost:8080/",
          "height": 119
        }
      },
      "source": [
        "!git clone https://github.com/pooyad359/fast_style.git"
      ],
      "execution_count": 0,
      "outputs": [
        {
          "output_type": "stream",
          "text": [
            "Cloning into 'fast_style'...\n",
            "remote: Enumerating objects: 34, done.\u001b[K\n",
            "remote: Counting objects: 100% (34/34), done.\u001b[K\n",
            "remote: Compressing objects: 100% (23/23), done.\u001b[K\n",
            "remote: Total 79 (delta 18), reused 26 (delta 11), pack-reused 45\u001b[K\n",
            "Unpacking objects: 100% (79/79), done.\n"
          ],
          "name": "stdout"
        }
      ]
    },
    {
      "cell_type": "code",
      "metadata": {
        "id": "Kwzo4geFTvZo",
        "colab_type": "code",
        "outputId": "aad13d2c-808c-4ff1-c814-5bf3cf3c7732",
        "colab": {
          "base_uri": "https://localhost:8080/",
          "height": 34
        }
      },
      "source": [
        "%cd fast_style"
      ],
      "execution_count": 0,
      "outputs": [
        {
          "output_type": "stream",
          "text": [
            "/content/fast_style\n"
          ],
          "name": "stdout"
        }
      ]
    },
    {
      "cell_type": "markdown",
      "metadata": {
        "id": "QEbF-df2UBde",
        "colab_type": "text"
      },
      "source": [
        "Depending on your storage select one of the datasets for training the model. We are using COCO dataset. 2014 train set is 13 GB and 2017 validation set is 800 MB (Note that this is the size of the zip file which we need to unzip)."
      ]
    },
    {
      "cell_type": "code",
      "metadata": {
        "id": "yHfykvD9TcnT",
        "colab_type": "code",
        "outputId": "ca227d26-6e24-40a9-a55e-f01f8c133719",
        "colab": {
          "base_uri": "https://localhost:8080/",
          "height": 204
        }
      },
      "source": [
        "# Small dataset (800 MB)\n",
        "!wget http://images.cocodataset.org/zips/val2017.zip\n",
        "!unzip val2017.zip\n",
        "!rm val2017.zip\n",
        "!mv val2017 data"
      ],
      "execution_count": 0,
      "outputs": [
        {
          "output_type": "stream",
          "text": [
            "--2019-11-26 11:34:14--  http://images.cocodataset.org/zips/val2017.zip\n",
            "Resolving images.cocodataset.org (images.cocodataset.org)... 52.217.36.76\n",
            "Connecting to images.cocodataset.org (images.cocodataset.org)|52.217.36.76|:80... connected.\n",
            "HTTP request sent, awaiting response... 200 OK\n",
            "Length: 815585330 (778M) [application/zip]\n",
            "Saving to: ‘val2017.zip’\n",
            "\n",
            "val2017.zip         100%[===================>] 777.80M  1.99MB/s    in 5m 3s   \n",
            "\n",
            "2019-11-26 11:39:17 (2.57 MB/s) - ‘val2017.zip’ saved [815585330/815585330]\n",
            "\n"
          ],
          "name": "stdout"
        }
      ]
    },
    {
      "cell_type": "code",
      "metadata": {
        "id": "p2fCsJPNWLAK",
        "colab_type": "code",
        "colab": {}
      },
      "source": [
        "# Large dataset (13GB)\n",
        "!wget http://images.cocodataset.org/zips/train2014.zip\n",
        "!unzip train2014.zip\n",
        "!rm train2014.zip\n",
        "!mv train2014 data"
      ],
      "execution_count": 0,
      "outputs": []
    },
    {
      "cell_type": "code",
      "metadata": {
        "id": "gLTgLKasX-0m",
        "colab_type": "code",
        "colab": {}
      },
      "source": [
        "import time"
      ],
      "execution_count": 0,
      "outputs": []
    },
    {
      "cell_type": "markdown",
      "metadata": {
        "id": "iLBrJjmGYMYz",
        "colab_type": "text"
      },
      "source": [
        "**Training arguments:**\n",
        "\n",
        "*   **dataset:** path to the parent folder of the training dataset\n",
        "*   **stye-image:** path to the style image\n",
        "* **save-model-dir:** path to the folder where the model is going to be saved\n",
        "* **epochs:** Number of epochs\n",
        "* **content-weight:** weight for content loss\n",
        "* **style-weight:** weight for style loss\n",
        "* **batch-size:** batch size. For 256x256 image size 20 usually works.\n",
        "* **cuda:** use 1 if you want to use gpu for training\n",
        "* **log-inerval :** interval (number of batches) between each loss log\n",
        "* **checkpoint-interval:** interval (number of batches) between each checkpoint (model weights will be saved)\n",
        "* **image-size:** size of training images\n",
        "* **style-size:** size of style image\n",
        "* **checkpoint-model-dir:** path to the folder where the checkpoints will be saved\n",
        "\n"
      ]
    },
    {
      "cell_type": "code",
      "metadata": {
        "id": "sZqlPYPNiQx5",
        "colab_type": "code",
        "outputId": "9e3adca5-3b76-4ec4-ea2d-b20771f6c92d",
        "colab": {
          "base_uri": "https://localhost:8080/",
          "height": 190
        }
      },
      "source": [
        "print(time.ctime())\n",
        "\n",
        "!python neural_style/neural_style.py train \\\n",
        "    --dataset ./ \\\n",
        "    --style-image /content/drive/My\\ Drive/NeuralStyle/styles/bigeyes.jpg \\\n",
        "    --save-model-dir /content/drive/My\\ Drive/NeuralStyle \\\n",
        "    --epochs 2 \\\n",
        "    --content-weight 1e5 \\\n",
        "    --style-weight 1e10 \\\n",
        "    --batch-size 20 \\\n",
        "    --cuda 1 \\\n",
        "    --log-interval 100 \\\n",
        "    --checkpoint-interval 1000 \\\n",
        "    --image-size 256 \\\n",
        "    --style-size 512 \\\n",
        "    --checkpoint-model-dir /content/drive/My\\ Drive/NeuralStyle/checkpoint"
      ],
      "execution_count": 0,
      "outputs": [
        {
          "output_type": "stream",
          "text": [
            "Tue Nov 26 11:47:34 2019\n",
            "Downloading: \"https://download.pytorch.org/models/vgg16-397923af.pth\" to /root/.cache/torch/checkpoints/vgg16-397923af.pth\n",
            "100% 528M/528M [00:06<00:00, 91.2MB/s]\n",
            "Tue Nov 26 11:49:17 2019\tEpoch 1:\t[2000/5011]\tcontent: 719846.294375\tstyle: 5945116.337500\ttotal: 6664962.631875\n",
            "Tue Nov 26 11:50:44 2019\tEpoch 1:\t[4000/5011]\tcontent: 767503.556562\tstyle: 3792785.249375\ttotal: 4560288.805937\n",
            "Tue Nov 26 11:52:53 2019\tEpoch 2:\t[2000/5011]\tcontent: 794693.316250\tstyle: 918737.048125\ttotal: 1713430.364375\n",
            "Tue Nov 26 11:54:19 2019\tEpoch 2:\t[4000/5011]\tcontent: 777826.866875\tstyle: 813118.350625\ttotal: 1590945.217500\n",
            "\n",
            "Done, trained model saved at /content/drive/My Drive/NeuralStyle/epoch_2_Tue_Nov_26_11:55:02_2019_100000.0_10000000000.0.model\n"
          ],
          "name": "stdout"
        }
      ]
    },
    {
      "cell_type": "code",
      "metadata": {
        "id": "xU-8c9YKkeJW",
        "colab_type": "code",
        "outputId": "d5500bcf-e363-4195-c5d2-47f8ee861116",
        "colab": {
          "base_uri": "https://localhost:8080/",
          "height": 34
        }
      },
      "source": [
        "!ls /content/drive/My\\ Drive/NeuralStyle/test.model"
      ],
      "execution_count": 0,
      "outputs": [
        {
          "output_type": "stream",
          "text": [
            "'/content/drive/My Drive/NeuralStyle/test.model'\n"
          ],
          "name": "stdout"
        }
      ]
    },
    {
      "cell_type": "markdown",
      "metadata": {
        "id": "Y-JBSsfLbrtx",
        "colab_type": "text"
      },
      "source": [
        "## Inference Arguments\n",
        "* **content-image:** path to the content image\n",
        "* **model:** path to the model/checkpoint file\n",
        "* **output-image:** path to the output file (where the result will be saved) including file name.\n",
        "* **cuda:** use 1 for gpu and 0 for cpu inference"
      ]
    },
    {
      "cell_type": "code",
      "metadata": {
        "id": "NxUhg4ElicEm",
        "colab_type": "code",
        "colab": {}
      },
      "source": [
        "#inference\n",
        "!python neural_style/neural_style.py eval \\\n",
        "    --content-image /content/drive/My\\ Drive/NeuralStyle/test-img/dog_lg.jpg \\\n",
        "    --model /content/drive/My\\ Drive/NeuralStyle/test.model \\\n",
        "    --output-image /content/drive/My\\ Drive/NeuralStyle/outputs/test_dog_lg.jpg \\\n",
        "    --cuda 0"
      ],
      "execution_count": 0,
      "outputs": []
    },
    {
      "cell_type": "code",
      "metadata": {
        "id": "h221W7rQkzO5",
        "colab_type": "code",
        "colab": {}
      },
      "source": [
        ""
      ],
      "execution_count": 0,
      "outputs": []
    }
  ]
}